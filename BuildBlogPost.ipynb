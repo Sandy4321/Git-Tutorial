{
 "metadata": {
  "name": "BuildBlogPost"
 },
 "nbformat": 3,
 "nbformat_minor": 0,
 "worksheets": [
  {
   "cells": [
    {
     "cell_type": "heading",
     "level": 1,
     "metadata": {},
     "source": [
      "Showoff Presentation -> Blog Post"
     ]
    },
    {
     "cell_type": "heading",
     "level": 2,
     "metadata": {},
     "source": [
      "    Setup"
     ]
    },
    {
     "cell_type": "heading",
     "level": 3,
     "metadata": {},
     "source": [
      "Configuration"
     ]
    },
    {
     "cell_type": "code",
     "collapsed": false,
     "input": [
      "config_fn = \"showoff.json\"\n",
      "outfile = \"blogpost/blogpost.md\""
     ],
     "language": "python",
     "metadata": {},
     "outputs": [],
     "prompt_number": 102
    },
    {
     "cell_type": "heading",
     "level": 3,
     "metadata": {},
     "source": [
      "Helper Functions"
     ]
    },
    {
     "cell_type": "code",
     "collapsed": false,
     "input": [
      "# [[a]] -> [a]\n",
      "def flatten(l):\n",
      "    return [item for sublist in l for item in sublist]\n",
      "\n",
      "def concatstrings(x):\n",
      "    addtwo = lambda x,y: x + y\n",
      "    return reduce(addtwo, x, \"\")\n",
      "\n",
      "# String -> IO [String]\n",
      "ls = os.listdir"
     ],
     "language": "python",
     "metadata": {},
     "outputs": [],
     "prompt_number": 103
    },
    {
     "cell_type": "heading",
     "level": 3,
     "metadata": {},
     "source": [
      "Imports"
     ]
    },
    {
     "cell_type": "code",
     "collapsed": false,
     "input": [
      "import json\n",
      "import os\n",
      "import re\n",
      "\n",
      "config = json.loads(open(config_fn).read())"
     ],
     "language": "python",
     "metadata": {},
     "outputs": [],
     "prompt_number": 104
    },
    {
     "cell_type": "heading",
     "level": 2,
     "metadata": {},
     "source": [
      "Extraction"
     ]
    },
    {
     "cell_type": "heading",
     "level": 3,
     "metadata": {},
     "source": [
      "Read in the presentation MD"
     ]
    },
    {
     "cell_type": "code",
     "collapsed": false,
     "input": [
      "mdfiles = flatten([sort([os.path.join(section[\"section\"], x) for x in ls(section[\"section\"])]) for section in config[\"sections\"]])\n",
      "addtwo = lambda x,y: x + y\n",
      "md_concatenated = concatstrings([open(f).read() for f in mdfiles])"
     ],
     "language": "python",
     "metadata": {},
     "outputs": [],
     "prompt_number": 105
    },
    {
     "cell_type": "heading",
     "level": 3,
     "metadata": {},
     "source": [
      "Remove SLIDE lines"
     ]
    },
    {
     "cell_type": "code",
     "collapsed": false,
     "input": [
      "slide_pattern = r\".*SLIDE.*\"\n",
      "md_out = concatstrings( re.split(slide_pattern, md_concatenated) )"
     ],
     "language": "python",
     "metadata": {},
     "outputs": [],
     "prompt_number": 106
    },
    {
     "cell_type": "heading",
     "level": 3,
     "metadata": {},
     "source": [
      "Write to a file"
     ]
    },
    {
     "cell_type": "code",
     "collapsed": false,
     "input": [
      "ohandle = open(outfile, \"w\")\n",
      "ohandle.write(md_out)\n",
      "ohandle.close()"
     ],
     "language": "python",
     "metadata": {},
     "outputs": [],
     "prompt_number": 107
    }
   ],
   "metadata": {}
  }
 ]
}